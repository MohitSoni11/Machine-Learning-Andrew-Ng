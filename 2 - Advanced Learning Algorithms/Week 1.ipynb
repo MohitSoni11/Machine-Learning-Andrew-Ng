{
 "cells": [
  {
   "cell_type": "markdown",
   "metadata": {},
   "source": [
    "# Neural Networks Intuition"
   ]
  },
  {
   "cell_type": "markdown",
   "metadata": {},
   "source": [
    "Assume you are trying to predict if a T-Shirt will be a top seller based on the following features:\n",
    "- Price\n",
    "- Shipping Cost\n",
    "- Marketing\n",
    "- Material\n",
    "\n",
    "However, you know that to know if a T-Shirt will be a top seller, the main points are:\n",
    "- Affordability\n",
    "- Awareness of the Product\n",
    "- Perceived Quality\n",
    "\n",
    "Therefore, you can create the neural network below to express the main points above:\n",
    "![](2022-07-21-14-23-44.png)\n",
    "- Yellow = Input Layer\n",
    "- Blue = Hidden Layer\n",
    "- However, neural networks aren't really implemented like this\n",
    "- Instead, each neuron from the middle layer is connected to each of the input features\n",
    "- Then, the network learns parameters which decide if input features are useful/not useful for each middle layer neuron\n",
    "\n",
    "Note that the above picture is basically Logistic Regression as you use Affordability, Awareness, and Perceived Quality to predict the probability of a T-Shirt being a top seller. However, now, you are able to use better features than you had before.\n",
    "- Also, usually, you don't go and tell the Neural Network all the different features. Instead, it usually learns new features from the data which makes it easier for it to do its job. Therefore, a Neural Network basically does feature engineering for you."
   ]
  },
  {
   "cell_type": "markdown",
   "metadata": {},
   "source": [
    "# Neural Network Model"
   ]
  },
  {
   "cell_type": "markdown",
   "metadata": {},
   "source": [
    "![](2022-07-21-15-00-15.png)"
   ]
  },
  {
   "cell_type": "markdown",
   "metadata": {},
   "source": [
    "![](2022-07-21-15-00-40.png)"
   ]
  },
  {
   "cell_type": "markdown",
   "metadata": {},
   "source": [
    "In this case, the neural network was based on $g(z)$ but it can use many other activation functions.\n",
    "\n",
    "<u>Forward Propagation</u> = what is going on in the pictures above; you move left to right through a neural network calculating $\\vec{a}^{1}$ to $\\vec{a}^{2}$ to however many $\\vec{a}$'s you are going to have."
   ]
  },
  {
   "cell_type": "markdown",
   "metadata": {},
   "source": [
    "# Neural Network in Code (TensorFlow)"
   ]
  },
  {
   "cell_type": "markdown",
   "metadata": {},
   "source": [
    "We are going to try to predict if the coffee we are roasting is good-tasting coffee based on the temperature (Celcius) and the duration (minutes) we spent to roast the coffee beans.\n",
    "\n",
    "To do this, we are going to implement the neural network below:\n",
    "\n",
    "![](2022-07-21-15-30-54.png)"
   ]
  },
  {
   "cell_type": "markdown",
   "metadata": {},
   "source": []
  }
 ],
 "metadata": {
  "kernelspec": {
   "display_name": "Python 3.10.4 64-bit",
   "language": "python",
   "name": "python3"
  },
  "language_info": {
   "name": "python",
   "version": "3.10.4"
  },
  "orig_nbformat": 4,
  "vscode": {
   "interpreter": {
    "hash": "afd6ec6a6081db90e3c169c3e6504ac022610349e3b3cfc7a85010bdd1e87fd7"
   }
  }
 },
 "nbformat": 4,
 "nbformat_minor": 2
}
