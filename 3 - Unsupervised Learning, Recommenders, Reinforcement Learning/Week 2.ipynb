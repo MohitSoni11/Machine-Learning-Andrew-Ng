{
 "cells": [
  {
   "cell_type": "markdown",
   "metadata": {},
   "source": [
    "-----------\n",
    "# Outline of Notebook\n",
    "- ### Recommender Systems\n",
    "- ### Collaborative Filtering\n",
    "- ### Recommender System Implementation Detail\n",
    "- ### Content Based Filtering Algorithm\n",
    "- ### Recommending a Large Catalogue\n",
    "-----------"
   ]
  },
  {
   "cell_type": "markdown",
   "metadata": {},
   "source": [
    "# Recommender Systems"
   ]
  },
  {
   "cell_type": "markdown",
   "metadata": {},
   "source": [
    "## Collaborative Filtering"
   ]
  },
  {
   "cell_type": "markdown",
   "metadata": {},
   "source": [
    "Let's say we have users that rated some movies and we also have some features on the movies:\n",
    "![](2022-07-29-15-27-58.png)\n",
    "- Here, $x_1$ = how much romance in the movie and $x_2$ = how much action in the movie\n",
    "- Ex. Love at last is a very romantic movie as per the table"
   ]
  },
  {
   "cell_type": "markdown",
   "metadata": {},
   "source": [
    "$n_u$ = # of users = 4\n",
    "\n",
    "$n_m$ = # of movies / # of items = 5\n",
    "\n",
    "$n$ = # of features = 2\n",
    "\n",
    "$x^{(1)} = [0.9, 0]$"
   ]
  },
  {
   "cell_type": "markdown",
   "metadata": {},
   "source": [
    "For user 1: Predict rating for movie $i$ as: $w^{(1)} \\cdot x^{(i)} + b^{(1)}$ (like linear regression)\n",
    "- Ex. Let's say $w^{(1)} = [5, 0]$ and $b^{(1)} = 0$ and $x^{(3)} = [0.99, 0]$\n",
    "- Prediction rating of Alice for third movie: $w^{(1)} \\cdot x^{(3)} + b^{(1)} = 4.95$\n",
    "- This rating seems plausible because Alice has given good ratings to 2 highly romantic movies\n",
    "\n",
    "<u>For user $j$:</u> Predict rating for movie $i$ as: $w^{(j)} \\cdot x^{(i)} + b^{(j)}$"
   ]
  },
  {
   "cell_type": "markdown",
   "metadata": {},
   "source": [
    "### Learning the Parameters"
   ]
  },
  {
   "cell_type": "markdown",
   "metadata": {},
   "source": [
    "Notation:\n",
    "- $r(i, j) = 1$ if user $j$ has rated movie $i$ (0 otherwise)\n",
    "- $y^{(i, j)}$ = rating given by user $j$ on movie $i$ (if defined)\n",
    "- $w^{(j)}, b^{(j)}$ = parameters for user $j$\n",
    "- $x^{(i)}$ = feature vector for movie $i$\n",
    "- $m^{(j)}$ = # of movies rated by user $j$\n",
    "\n",
    "For user $j$ and movie $i$, predict rating: $w^{(j)} \\cdot x^{(i)} + b^{(j)}$\n",
    "\n",
    "To learn $w^{(j)}$ and $b^{(j)}$ (very much like linear regression): \n",
    "$$J(w^{(j)}, b^{(j)}) = \\frac{1}{2}\\sum_{i:r(i, j) = 1} (w^{(j)} \\cdot x^{(i)} + b^{(j)} - y^{(i, j)})^2 + \\frac{\\lambda}{2}\\sum_{k = 1}^{n} (w_k^{(j)})^2$$\n",
    "- The notation at the bottom of the sum means that we are only going to loop over the values of i which are available/have a rating"
   ]
  },
  {
   "cell_type": "markdown",
   "metadata": {},
   "source": [
    "To learn parameters $w^{(1)}, b^{(1)}, w^{(1)}, b^{(1)}, \\ldots, w^{(n_u)}, b^{(n_u)}$ for all users: \n",
    "$$J(w^{(1)}, b^{(1)}, \\ldots, w^{(n_u)}, b^{(n_u)}) = \\sum_{j = 1}^{n_u} (J(w^{(j)}), b^{(j)})$$"
   ]
  },
  {
   "cell_type": "markdown",
   "metadata": {},
   "source": [
    "### What if you don't have features?"
   ]
  },
  {
   "cell_type": "markdown",
   "metadata": {},
   "source": [
    "![](2022-07-29-16-08-56.png)"
   ]
  },
  {
   "cell_type": "markdown",
   "metadata": {},
   "source": [
    "Let's assume that we already have the parameters we need:\n",
    "- $w^{(1)} = [5, 0]$, $b^{(1)} = 0$\n",
    "- $w^{(2)} = [5, 0]$, $b^{(2)} = 0$\n",
    "- $w^{(3)} = [0, 5]$, $b^{(3)} = 0$\n",
    "- $w^{(4)} = [0, 5]$, $b^{(4)} = 0$\n",
    "\n",
    "Using $w^{(j)} \\cdot x^{(i)} + b^{(j)}$:\n",
    "- $w^{(1)} \\cdot x^{(1)} \\approx 5$\n",
    "- $w^{(2)} \\cdot x^{(1)} \\approx 5$\n",
    "- $w^{(3)} \\cdot x^{(1)} \\approx 0$\n",
    "- $w^{(4)} \\cdot x^{(1)} \\approx 0$\n",
    "- Therefore, $x^{(1)}$ must be equal to $[1, 0]$\n",
    "- By doing this, we can figure out the features of each movie"
   ]
  },
  {
   "cell_type": "markdown",
   "metadata": {},
   "source": [
    "### Learning Features"
   ]
  },
  {
   "cell_type": "markdown",
   "metadata": {},
   "source": [
    "Given $w^{(1)}, b^{(1)}, w^{(1)}, b^{(1)}, \\ldots, w^{(n_u)}, b^{(n_u)}$, to learn $x^{(i)}$:\n",
    "$$J(x^{(i)}) = \\frac{1}{2}\\sum_{i:r(i, j) = 1} (w^{(j)} \\cdot x^{(i)} + b^{(j)} - y^{(i, j)})^2 + \\frac{\\lambda}{2}\\sum_{k = 1}^{n} (x_k^{(i)})^2$$\n",
    "\n",
    "To learn $x^{(1)}, x^{(2)}, \\ldots, x^{(n_m)}$:\n",
    "$$J(x^{(1)}, \\ldots, x^{(n_m)}) = \\sum_{i = 1}^{n_m} (J(x^{(i)}))$$"
   ]
  },
  {
   "cell_type": "markdown",
   "metadata": {},
   "source": [
    "### Collaborative Filtering Algorithm (Merging the Learning of the Features and the Parameters)"
   ]
  },
  {
   "cell_type": "markdown",
   "metadata": {},
   "source": [
    "<u>Final Cost Function</u> $$J(w, b, x) = \\frac{1}{2}\\sum_{i:r(i, j) = 1} (w^{(j)} \\cdot x^{(i)} + b^{(j)} - y^{(i, j)})^2 + \\frac{\\lambda}{2}\\sum_{j = 1}^{n_u}(\\sum_{k = 1}^{n} (w_k^{(j)})^2) + \\frac{\\lambda}{2}\\sum_{i = 1}^{n_m}(\\sum_{k = 1}^{n} (x_k^{(i)})^2)$$"
   ]
  },
  {
   "cell_type": "markdown",
   "metadata": {},
   "source": [
    "<u>Gradient Descent</u>\n",
    "\n",
    "repeat {\n",
    "\n",
    "$\\quad w^{(j)}_i = w^{(j)}_i - \\alpha\\frac{\\partial}{\\partial w^{(j)}_i}J(w, b, x)$\n",
    "\n",
    "$\\quad b^{(j)} = b^{(j)} - \\alpha\\frac{\\partial}{\\partial b^{(j)}}J(w, b, x)$\n",
    "\n",
    "$\\quad x^{(i)}_k = x^{(i)}_k - \\alpha\\frac{\\partial}{\\partial x^{(i)}_k}J(w, b, x)$\n",
    "\n",
    "}"
   ]
  },
  {
   "cell_type": "markdown",
   "metadata": {},
   "source": [
    "### Binary Labels (Favs, Likes, Clicks) -- Collaborative Filtering"
   ]
  },
  {
   "cell_type": "markdown",
   "metadata": {},
   "source": [
    "Applications:\n",
    "- Did user $j$ purchase an item after being shown?\n",
    "- Did user $j$ fav/like an item?\n",
    "- Did user $j$ spend at least 30 sec with an item?\n",
    "- Did user $j$ click on an item?\n",
    "\n",
    "Meaning of ratings:\n",
    "- 1 - engaged after being shown item\n",
    "- 0 - did not engage after being shown item\n",
    "- ? - item not yet shown"
   ]
  },
  {
   "cell_type": "markdown",
   "metadata": {},
   "source": [
    "![](2022-07-29-16-44-28.png)"
   ]
  },
  {
   "cell_type": "markdown",
   "metadata": {},
   "source": [
    "Previously:\n",
    " \n",
    "$\\quad$ Predict $y^{(i, j)}$ as $w^{(j)} \\cdot x^{(i)} + b^{(j)}$ (like linear regression)\n",
    "\n",
    "For binary labels:\n",
    "\n",
    "$\\quad$ Predict that the probability of $y^{(i, j)} = 1$ is given by: \n",
    "\n",
    "$\\quad\\quad g(w^{(j)} \\cdot x^{(i)} + b^{(j)})$ where $g(z) = \\frac{1}{1 + e^{-z}}$ (like logistic regression)"
   ]
  },
  {
   "cell_type": "markdown",
   "metadata": {},
   "source": [
    "Previous Cost Function: $$J(w, b, x) = \\frac{1}{2}\\sum_{i:r(i, j) = 1} (w^{(j)} \\cdot x^{(i)} + b^{(j)} - y^{(i, j)})^2 + \\frac{\\lambda}{2}\\sum_{j = 1}^{n_u}(\\sum_{k = 1}^{n} (w_k^{(j)})^2) + \\frac{\\lambda}{2}\\sum_{i = 1}^{n_m}(\\sum_{k = 1}^{n} (x_k^{(i)})^2)$$\n",
    "\n",
    "Loss for binary labels $y^{(i, j)}$: $$J(w, b, x) = \\sum_{i:r(i, j) = 1} (L(f_{w, b, x}(x), y^{(i, j)})) \\text{ where } L(f_{w, b, x}(x), y^{(i, j)}) = \\text{logistic regression loss function}$$"
   ]
  },
  {
   "cell_type": "markdown",
   "metadata": {},
   "source": [
    "## Recommender Systems Implementation Detail"
   ]
  },
  {
   "cell_type": "markdown",
   "metadata": {},
   "source": [
    "<u>Mean Normalization</u>\n",
    "- Take average rating of each movie (row)\n",
    "- Subtract the mean from each value in row for each row\n",
    "- Then, use the algorithm to predict the movie ratings\n",
    "- So the movie ratings aren't negative, add back the corresponding mean value to the rating\n",
    "- This allows the algorithm to run faster and also lets the algorithm do better when a user has a very small number of ratings given"
   ]
  },
  {
   "cell_type": "markdown",
   "metadata": {},
   "source": [
    "<u>How does Collaborative Filtering find related items?</u>\n",
    "- Let's say you have an item $i$ with learned features $x^{(i)}$\n",
    "- To find other items related to it, find item $k$ with $x^{(k)}$ similar to $x^{(i)}$\n",
    "- ie. With smallest distance: $\\sum_{l = 1}^{n} (x_l^{(k)} - x_l^{(i)})^2 = ||x_l^{(k)} - x_l^{(i)}||^2$"
   ]
  },
  {
   "cell_type": "markdown",
   "metadata": {},
   "source": [
    "<u>Limitations of Collaborative Filtering</u>\n",
    "- Doesn't solve Cold start problem well: How to\n",
    "    - rank new items that few users have rated?\n",
    "    - show someting reasonable to new users who have rated few items\n",
    "- Does't allow for the usage of side information about items or users:\n",
    "    - Item: Genre, movie stars, studio, etc.\n",
    "    - User: Demographics, expressed preferences, etc."
   ]
  },
  {
   "cell_type": "markdown",
   "metadata": {},
   "source": [
    "## Content Based Filtering Algorithm"
   ]
  },
  {
   "cell_type": "markdown",
   "metadata": {},
   "source": [
    "Collaborative Filtering:\n",
    "- Recommend items to you based on rating of users who game similar ratings as you\n",
    "\n",
    "Content-based Filtering:\n",
    "- Recommend items to you based on features of user and item to find good match"
   ]
  },
  {
   "cell_type": "markdown",
   "metadata": {},
   "source": [
    "What we want to do is: Predict rating of user $j$ on movie $i$ as:\n",
    "- $v_u \\cdot v_m$\n",
    "    - Where $v_u$ is a vector computed from the user's features ($x_u$)\n",
    "    - Where $v_m$ is a vector computed from the movie's features ($x_m$)\n",
    "    - NOTE: We are doing this so we can condense the user's and movie's features to the same size as well as to get the important info so we can take the dot product to find the rating the user would give a certain movie"
   ]
  },
  {
   "cell_type": "markdown",
   "metadata": {},
   "source": [
    "### How to find $v_u$ and $v_m$"
   ]
  },
  {
   "cell_type": "markdown",
   "metadata": {},
   "source": [
    "Using 2 Neural Networks to convert $x_u$ to $v_u$ and $x_m$ to $v_m$\n",
    "\n",
    "![](2022-07-29-17-50-56.png)\n",
    "\n",
    "NOTE: The output layer of both neural networks needs to have the same number of neurons so can take the dot product of $v_u$ and $v_m$"
   ]
  },
  {
   "cell_type": "markdown",
   "metadata": {},
   "source": [
    "### How to apply Content-Based Filtering to Binary Labels?"
   ]
  },
  {
   "cell_type": "markdown",
   "metadata": {},
   "source": [
    "Instead of having the prediction as: $v_u \\cdot v_m$\n",
    "\n",
    "Prediction should be: $g(v_u \\cdot v_m)$ where $g(z) = \\frac{1}{1 + e^{-z}}$\n",
    "\n",
    "$g(v_u \\cdot v_m)$ = the probability that $y^{(i, j)}$ is 1"
   ]
  },
  {
   "cell_type": "markdown",
   "metadata": {},
   "source": [
    "### Training both the User and Movie Networks"
   ]
  },
  {
   "cell_type": "markdown",
   "metadata": {},
   "source": [
    "<u>Cost Function Training Both User and Movie Networks</u> \n",
    "$$J = \\sum_{(i, j):r(i, j) = 1} (v_u \\cdot v_m - y^{(i, y)})^2 + \\text{NN Regularization Term}$$"
   ]
  },
  {
   "cell_type": "markdown",
   "metadata": {},
   "source": [
    "# Recommending from a Large Catalogue"
   ]
  },
  {
   "cell_type": "markdown",
   "metadata": {},
   "source": [
    "If a movie streaming site has thousands of movies, running neural networks for each movie and user that comes onto that site is very computationally expensive and infeasible."
   ]
  },
  {
   "cell_type": "markdown",
   "metadata": {},
   "source": [
    "<u>Two Steps: Retrieval & Ranking</u>\n",
    "\n",
    "Retrieval:\n",
    "- Generate large list of plausible item candidates\n",
    "    - Add for each of the last 10 movies watched by the user, the 10 most similar movies into list --> $||v_m^{(k)} - v_m^{(i)}||^2$\n",
    "    - Add for most viewed 3 genres, the top 10 movies in list\n",
    "    - Add top 20 movies in the country in list\n",
    "- Combine retrieved items into list, removing duplicates and items already watched/purchased\n",
    "\n",
    "Ranking:\n",
    "- Take list retrieved and find which movies the user will give the highest ratings to using learned model\n",
    "- Display top items to user"
   ]
  }
 ],
 "metadata": {
  "kernelspec": {
   "display_name": "Python 3.10.4 64-bit",
   "language": "python",
   "name": "python3"
  },
  "language_info": {
   "name": "python",
   "version": "3.10.4"
  },
  "orig_nbformat": 4,
  "vscode": {
   "interpreter": {
    "hash": "afd6ec6a6081db90e3c169c3e6504ac022610349e3b3cfc7a85010bdd1e87fd7"
   }
  }
 },
 "nbformat": 4,
 "nbformat_minor": 2
}
